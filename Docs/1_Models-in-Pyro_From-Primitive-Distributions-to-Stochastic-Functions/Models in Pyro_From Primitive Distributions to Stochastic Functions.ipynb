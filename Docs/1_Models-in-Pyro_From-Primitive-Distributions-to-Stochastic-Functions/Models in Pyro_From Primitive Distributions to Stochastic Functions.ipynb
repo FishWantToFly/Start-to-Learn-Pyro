{
 "cells": [
  {
   "cell_type": "markdown",
   "metadata": {},
   "source": [
    "## Overview\n",
    "    Pyro is a Probabilistic Programming.\n",
    "    Unlike tensorflow for example, Pyro often uses nondeterministic distribution to illustrate problems and solve them."
   ]
  },
  {
   "cell_type": "code",
   "execution_count": 1,
   "metadata": {},
   "outputs": [],
   "source": [
    "# import some dependencies\n",
    "import torch\n",
    "from torch.autograd import Variable\n",
    "\n",
    "import pyro\n",
    "import pyro.distributions as dist"
   ]
  },
  {
   "cell_type": "markdown",
   "metadata": {},
   "source": [
    "### stochastic function\n",
    "    We will often call stochastic functions models, since stochastic functions can be used to represent simplified or abstract descriptions of a process by which data are generated. "
   ]
  },
  {
   "cell_type": "markdown",
   "metadata": {},
   "source": [
    "### Primitive Stochastic Functions\n",
    "    For example, to draw a sample x from the unit normal distribution N(0,1) we do the following:"
   ]
  },
  {
   "cell_type": "code",
   "execution_count": 3,
   "metadata": {},
   "outputs": [
    {
     "name": "stdout",
     "output_type": "stream",
     "text": [
      "Variable containing:\n",
      " 0.4495\n",
      "[torch.FloatTensor of size 1]\n",
      "\n"
     ]
    }
   ],
   "source": [
    "mu = Variable(torch.zeros(1))   # mean zero\n",
    "sigma = Variable(torch.ones(1)) # unit variance\n",
    "x = dist.normal(mu, sigma)      # x is a sample from N(0,1)\n",
    "print(x)"
   ]
  },
  {
   "cell_type": "markdown",
   "metadata": {},
   "source": [
    "    Note that the parameters passed to dist.normal are PyTorch Variables. This is necessary because we want to make use of PyTorch’s fast tensor math and autograd capabilities. "
   ]
  },
  {
   "cell_type": "code",
   "execution_count": 6,
   "metadata": {},
   "outputs": [
    {
     "name": "stdout",
     "output_type": "stream",
     "text": [
      "Variable containing:\n",
      "-1.0200\n",
      "[torch.FloatTensor of size 1]\n",
      "\n"
     ]
    }
   ],
   "source": [
    "log_p_x = dist.normal.log_pdf(x, mu, sigma)\n",
    "print(log_p_x)"
   ]
  },
  {
   "cell_type": "markdown",
   "metadata": {},
   "source": [
    "### The pyro.sample Primitive\n",
    "    Just like a direct call to dist.normal, this returns a sample from the unit normal distribution. The crucial difference is that this sample is named"
   ]
  },
  {
   "cell_type": "code",
   "execution_count": 9,
   "metadata": {},
   "outputs": [
    {
     "name": "stdout",
     "output_type": "stream",
     "text": [
      "Variable containing:\n",
      " 0.6675\n",
      "[torch.FloatTensor of size 1]\n",
      "\n"
     ]
    }
   ],
   "source": [
    "x = pyro.sample(\"my_sample\", dist.normal, mu, sigma)\n",
    "print(x)\n",
    "# fn is an arbitrary stochastic function\n",
    "# y = pyro.sample(\"my_sample\", fn, arg1, arg2)\n",
    "# print(y)"
   ]
  },
  {
   "cell_type": "markdown",
   "metadata": {},
   "source": [
    "### A Simple Model\n",
    "    Let’s suppose we have a bunch of data with daily mean temperatures and cloud cover. We want to reason about how temperature interacts with whether it was sunny or cloudy. A simple stochastic function that does that is given by:"
   ]
  },
  {
   "cell_type": "code",
   "execution_count": 15,
   "metadata": {},
   "outputs": [
    {
     "name": "stdout",
     "output_type": "stream",
     "text": [
      "('cloudy', 49.88711929321289)\n",
      "('cloudy', 63.97058868408203)\n",
      "('sunny', 88.5665283203125)\n"
     ]
    }
   ],
   "source": [
    "def weather():\n",
    "    # return 0 or 1\n",
    "    cloudy = pyro.sample('cloudy', dist.bernoulli,\n",
    "                         Variable(torch.Tensor([0.3])))\n",
    "    cloudy = 'cloudy' if cloudy.data[0] == 1.0 else 'sunny'\n",
    "    mean_temp = {'cloudy': [55.0], 'sunny': [75.0]}[cloudy]\n",
    "    sigma_temp = {'cloudy': [10.0], 'sunny': [15.0]}[cloudy]\n",
    "    #  joint probability distribution\n",
    "    temp = pyro.sample('temp', dist.normal,\n",
    "                       Variable(torch.Tensor(mean_temp)),\n",
    "                       Variable(torch.Tensor(sigma_temp)))\n",
    "    return cloudy, temp.data[0]\n",
    "\n",
    "for _ in range(3):\n",
    "    print(weather())"
   ]
  },
  {
   "cell_type": "markdown",
   "metadata": {},
   "source": [
    "    Simulate a easy problem in the life."
   ]
  },
  {
   "cell_type": "code",
   "execution_count": 20,
   "metadata": {},
   "outputs": [
    {
     "name": "stdout",
     "output_type": "stream",
     "text": [
      "Variable containing:\n",
      " 206.7471\n",
      "[torch.FloatTensor of size 1]\n",
      "\n"
     ]
    }
   ],
   "source": [
    "def ice_cream_sales():\n",
    "    cloudy, temp = weather()\n",
    "    expected_sales = [200] if cloudy == 'sunny' and temp > 80.0 else [50]\n",
    "    ice_cream = pyro.sample('ice_cream', dist.normal,\n",
    "                            Variable(torch.Tensor(expected_sales)),\n",
    "                            Variable(torch.Tensor([10.0])))\n",
    "    return ice_cream\n",
    "print(ice_cream_sales())"
   ]
  },
  {
   "cell_type": "markdown",
   "metadata": {},
   "source": [
    "### Universality: Stochastic Recursion, Higher-order Stochastic Functions, and Random Control Flow\n",
    "    For example we can define a geometric distribution like so:"
   ]
  },
  {
   "cell_type": "code",
   "execution_count": 24,
   "metadata": {},
   "outputs": [
    {
     "name": "stdout",
     "output_type": "stream",
     "text": [
      "Variable containing:\n",
      " 0\n",
      "[torch.FloatTensor of size 1]\n",
      "\n"
     ]
    }
   ],
   "source": [
    "def geometric(p, t=None):\n",
    "    if t is None:\n",
    "        t = 0\n",
    "    x = pyro.sample(\"x_{}\".format(t), dist.bernoulli, p)\n",
    "    if torch.equal(x.data, torch.zeros(1)):\n",
    "        return x\n",
    "    else:\n",
    "        return x + geometric(p, t+1)\n",
    "\n",
    "print(geometric(Variable(torch.Tensor([0.5]))))"
   ]
  },
  {
   "cell_type": "markdown",
   "metadata": {},
   "source": [
    "    We are also free to define stochastic functions that accept as input or produce as output other stochastic functions:\n",
    "    (The code below is relatively hard to understand)"
   ]
  },
  {
   "cell_type": "code",
   "execution_count": 29,
   "metadata": {},
   "outputs": [
    {
     "name": "stdout",
     "output_type": "stream",
     "text": [
      "Variable containing:\n",
      " 0.9202\n",
      "[torch.FloatTensor of size 1]\n",
      "\n"
     ]
    }
   ],
   "source": [
    "def normal_product(mu, sigma):\n",
    "    z1 = pyro.sample(\"z1\", dist.normal, mu, sigma)\n",
    "    z2 = pyro.sample(\"z2\", dist.normal, mu, sigma)\n",
    "    y = z1 * z2\n",
    "    return y\n",
    "\n",
    "def make_normal_normal():\n",
    "    mu_latent = pyro.sample(\"mu_latent\", dist.normal,\n",
    "                            Variable(torch.zeros(1)),\n",
    "                            Variable(torch.ones(1)))\n",
    "    # It seems that torch.ones(1) is sigma here ?\n",
    "    fn = lambda sigma: normal_product(mu_latent, sigma)\n",
    "    return fn\n",
    "\n",
    "print(make_normal_normal()(Variable(torch.ones(1))))"
   ]
  }
 ],
 "metadata": {
  "kernelspec": {
   "display_name": "Python 3",
   "language": "python",
   "name": "python3"
  },
  "language_info": {
   "codemirror_mode": {
    "name": "ipython",
    "version": 3
   },
   "file_extension": ".py",
   "mimetype": "text/x-python",
   "name": "python",
   "nbconvert_exporter": "python",
   "pygments_lexer": "ipython3",
   "version": "3.5.4"
  }
 },
 "nbformat": 4,
 "nbformat_minor": 2
}
