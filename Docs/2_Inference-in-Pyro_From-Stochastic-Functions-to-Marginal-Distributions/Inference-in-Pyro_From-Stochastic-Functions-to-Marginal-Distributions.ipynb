{
 "cells": [
  {
   "cell_type": "code",
   "execution_count": 1,
   "metadata": {},
   "outputs": [
    {
     "data": {
      "text/plain": [
       "<torch._C.Generator at 0x7ff9aab1ad10>"
      ]
     },
     "execution_count": 1,
     "metadata": {},
     "output_type": "execute_result"
    }
   ],
   "source": [
    "%matplotlib inline\n",
    "# import some dependencies\n",
    "import numpy as np\n",
    "import matplotlib.pyplot as plt\n",
    "try:\n",
    "    import seaborn as sns\n",
    "    sns.set()\n",
    "except ImportError:\n",
    "    pass\n",
    "\n",
    "import torch\n",
    "from torch.autograd import Variable\n",
    "\n",
    "import pyro\n",
    "import pyro.infer\n",
    "import pyro.optim\n",
    "import pyro.distributions as dist\n",
    "\n",
    "torch.manual_seed(101)"
   ]
  },
  {
   "cell_type": "markdown",
   "metadata": {},
   "source": [
    "### Inference in Pyro: From Stochastic Functions to Marginal Distributions\n",
    "    Stochastic functions induce a joint probability distribution p(y,z|x) \n",
    "    Induces a marginal distribution over return values of the function\n",
    "    \n",
    "    Much of modern machine learning can be cast as approximate Bayesian inference and expressed succinctly in a language like Pyro.\n",
    "    \n",
    "    I can't understand XD\n",
    "    "
   ]
  },
  {
   "cell_type": "markdown",
   "metadata": {},
   "source": [
    "### A Simple Example\n",
    "    Suppose we are trying to figure out how much something weighs, but the scale we’re using is unreliable and gives slightly different answers every time we weigh the same object. \n",
    "#### We could try to compensate for this variability by integrating the noisy measurement information with a guess based on some prior knowledge about the object\n",
    "    用加上noise的方式，以及一些prior knowledge，去approximate    \n"
   ]
  },
  {
   "cell_type": "code",
   "execution_count": 2,
   "metadata": {},
   "outputs": [],
   "source": [
    "def scale(guess):\n",
    "    # The prior over weight encodes our uncertainty about our guess\n",
    "    weight = pyro.sample(\"weight\", dist.normal, guess, Variable(torch.ones(1)))\n",
    "    # This encodes our belief about the noisiness of the scale:\n",
    "    # fluctuates 變動\n",
    "    # the measurement fluctuates around the true weight\n",
    "    return pyro.sample(\"measurement\", dist.normal, weight, Variable(torch.Tensor([0.75])))"
   ]
  },
  {
   "cell_type": "markdown",
   "metadata": {},
   "source": [
    "### Representing Marginal Distributions\n",
    "#### Marginal Distributions: It contrasts with conditional distrubition. It gives prababilistics of variables without reference to vales of others\n",
    "\n",
    "    Marginalization in Pyro with pyro.infer.Marginal is split into two steps. \n",
    "    First, we collect a number of weighted execution traces of the model.\n",
    "    Then, we can collapse those traces into a histogram over possible return values given a particular set of arguments.\n",
    "    (In order to do marginal distributions)"
   ]
  },
  {
   "cell_type": "code",
   "execution_count": 6,
   "metadata": {},
   "outputs": [],
   "source": [
    "posterior = pyro.infer.Importance(scale, num_samples=100)\n"
   ]
  },
  {
   "cell_type": "code",
   "execution_count": 12,
   "metadata": {},
   "outputs": [
    {
     "name": "stdout",
     "output_type": "stream",
     "text": [
      "Variable containing:\n",
      " 8.2103\n",
      "[torch.FloatTensor of size 1]\n",
      "\n"
     ]
    }
   ],
   "source": [
    "# By this usage, we can get output like before\n",
    "guess = Variable(torch.Tensor([8.5]))\n",
    "\n",
    "marginal = pyro.infer.Marginal(posterior)\n",
    "print(marginal(guess))"
   ]
  },
  {
   "cell_type": "code",
   "execution_count": 10,
   "metadata": {},
   "outputs": [
    {
     "data": {
      "text/plain": [
       "Text(0,0.5,'#')"
      ]
     },
     "execution_count": 10,
     "metadata": {},
     "output_type": "execute_result"
    },
    {
     "data": {
      "image/png": "[encoded data removed]",
      "text/plain": [
       "<matplotlib.figure.Figure at 0x7ff9cc16add8>"
      ]
     },
     "metadata": {},
     "output_type": "display_data"
    }
   ],
   "source": [
    "\n",
    "plt.hist([marginal(guess).data[0] for _ in range(100)], range=(5.0, 12.0))\n",
    "plt.title(\"P(measurement | guess)\")\n",
    "plt.xlabel(\"weight\")\n",
    "plt.ylabel(\"#\")"
   ]
  },
  {
   "cell_type": "markdown",
   "metadata": {},
   "source": [
    "### Conditioning Models on Data\n",
    "##### The real utility of probabilistic programming is in the ability to condition generative models on observed data and infer the latent factors that might have produced that data\n",
    "\n",
    "    Pyro provides the function pyro.condition to allow us to constrain the values of sample statements."
   ]
  },
  {
   "cell_type": "code",
   "execution_count": 14,
   "metadata": {},
   "outputs": [],
   "source": [
    "# Behaves like python function , but \"measurement\" is fixed\n",
    "conditioned_scale = pyro.condition(\n",
    "    scale, data={\"measurement\": Variable(torch.Tensor([8.5]))})"
   ]
  },
  {
   "cell_type": "code",
   "execution_count": 15,
   "metadata": {},
   "outputs": [],
   "source": [
    "def deferred_conditioned_scale(measurement, *args, **kwargs):\n",
    "    return pyro.condition(scale, data={\"measurement\": measurement})(*args, **kwargs)"
   ]
  },
  {
   "cell_type": "markdown",
   "metadata": {},
   "source": [
    "    Introduce many usages (I think is all the same )"
   ]
  },
  {
   "cell_type": "code",
   "execution_count": 16,
   "metadata": {},
   "outputs": [],
   "source": [
    "# equivalent to pyro.condition(scale, data={\"measurement\": Variable(torch.ones(1))})\n",
    "def scale_obs(guess):\n",
    "    z = pyro.sample(\"weight\", dist.normal, guess, Variable(torch.ones(1)))\n",
    "     # here we attach an observation measurement == 1\n",
    "    return pyro.sample(\"measurement\", dist.normal, weight, Variable(torch.ones(1)),\n",
    "                       obs=Variable(torch.Tensor([0.1])))\n",
    "\n",
    "# equivalent to scale_obs:\n",
    "def scale_obs(guess):\n",
    "    z = pyro.sample(\"weight\", dist.normal, guess, Variable(torch.ones(1)))\n",
    "    # here we attach an observation measurement == 1\n",
    "    return pyro.observe(\"measurement\", dist.normal, Variable(torch.ones(1)),\n",
    "                        weight, Variable(torch.Tensor([0.1])))"
   ]
  },
  {
   "cell_type": "code",
   "execution_count": 17,
   "metadata": {},
   "outputs": [],
   "source": [
    "def scale2(guess):\n",
    "    weight = pyro.sample(\"weight\", dist.normal,\n",
    "                         guess, Variable(torch.ones(1)))\n",
    "    tolerance = torch.abs(\n",
    "        pyro.sample(\"tolerance\", dist.normal, Variable(torch.zeros(1)), Variable(torch.ones(1))))\n",
    "\n",
    "    return pyro.sample(\"measurement\", dist.normal, weight, tolerance)\n",
    "\n",
    "# conditioning composes:\n",
    "# the following are all equivalent and do not interfere with each other\n",
    "conditioned_scale2_1 = pyro.condition(\n",
    "    pyro.condition(scale2, data={\"weight\": Variable(torch.ones(1))}),\n",
    "    data={\"measurement\": Variable(torch.ones(1))})\n",
    "\n",
    "conditioned_scale2_2 = pyro.condition(\n",
    "    pyro.condition(scale2, data={\"measurement\": Variable(torch.ones(1))}),\n",
    "    data={\"weight\": Variable(torch.ones(1))})\n",
    "\n",
    "conditioned_scale2_3 = pyro.condition(\n",
    "    scale2, data={\"weight\": Variable(torch.ones(1)), \"measurement\": Variable(torch.ones(1))})"
   ]
  },
  {
   "cell_type": "markdown",
   "metadata": {},
   "source": [
    "### Flexible Approximate Inference With Guide Functions\n",
    "    Let’s return to deferred_conditioned_scale."
   ]
  },
  {
   "cell_type": "code",
   "execution_count": 25,
   "metadata": {},
   "outputs": [
    {
     "name": "stdout",
     "output_type": "stream",
     "text": [
      "{'weight': Variable containing:\n",
      " 7.8769\n",
      "[torch.FloatTensor of size 1]\n",
      "}\n"
     ]
    },
    {
     "data": {
      "text/plain": [
       "Text(0,0.5,'#')"
      ]
     },
     "execution_count": 25,
     "metadata": {},
     "output_type": "execute_result"
    },
    {
     "data": {
      "image/png": "[encoded data removed]",
      "text/plain": [
       "<matplotlib.figure.Figure at 0x7ff974463320>"
      ]
     },
     "metadata": {},
     "output_type": "display_data"
    }
   ],
   "source": [
    "guess = Variable(torch.Tensor([8.5]))\n",
    "measurement = Variable(torch.Tensor([9.5]))\n",
    "\n",
    "conditioned_scale = pyro.condition(scale, data={\"measurement\": measurement})\n",
    "\n",
    "# assign sites: want to see sites in marginal distributions \n",
    "marginal = pyro.infer.Marginal(\n",
    "    pyro.infer.Importance(conditioned_scale, num_samples=100), sites=[\"weight\"])\n",
    "\n",
    "# The marginal distribution concentrates around the data\n",
    "print(marginal(guess))\n",
    "plt.hist([marginal(guess)[\"weight\"].data[0] for _ in range(100)], range=(5.0, 12.0))\n",
    "plt.title(\"P(weight | measurement, guess)\")\n",
    "plt.xlabel(\"weight\")\n",
    "plt.ylabel(\"#\")"
   ]
  },
  {
   "cell_type": "markdown",
   "metadata": {},
   "source": [
    "    Some inference algorithms in Pyro, like pyro.infer.Importance and pyro.infer.SVI, allow us to use arbitrary stochastic functions, which we will call guide functions or guides, as approximate posterior distributions.\n",
    "    Guide functions must satisfy these two criteria to be valid approximations for a particular model: \n",
    "        1. all unobserved sample statements that appear in the model appear in the guide. \n",
    "        2. the guide has the same input signature as the model (i.e. takes the same arguments)"
   ]
  },
  {
   "cell_type": "code",
   "execution_count": 26,
   "metadata": {},
   "outputs": [],
   "source": [
    "def scale_prior_guide(guess):\n",
    "    return pyro.sample(\"weight\", dist.normal, guess, Variable(torch.ones(1)))\n",
    "\n",
    "# compared to above code\n",
    "# posterior = pyro.infer.Importance(scale, num_samples=100)\n",
    "posterior = pyro.infer.Importance(conditioned_scale,\n",
    "                                  guide=scale_prior_guide,\n",
    "                                  num_samples=10)\n",
    "\n",
    "marginal = pyro.infer.Marginal(posterior, sites=[\"weight\"])"
   ]
  },
  {
   "cell_type": "markdown",
   "metadata": {},
   "source": [
    "   　More true posterior distribution "
   ]
  },
  {
   "cell_type": "code",
   "execution_count": 29,
   "metadata": {},
   "outputs": [
    {
     "data": {
      "text/plain": [
       "Text(0,0.5,'#')"
      ]
     },
     "execution_count": 29,
     "metadata": {},
     "output_type": "execute_result"
    },
    {
     "data": {
      "image/png": "[encoded data removed]",
      "text/plain": [
       "<matplotlib.figure.Figure at 0x7ff96b6831d0>"
      ]
     },
     "metadata": {},
     "output_type": "display_data"
    }
   ],
   "source": [
    "def scale_posterior_guide(measurement, guess):\n",
    "    # note that torch.size(measurement, 0) is the total number of measurements\n",
    "    # that we're conditioning on\n",
    "    a = (guess + torch.sum(measurement)) / (measurement.size(0) + 1.0)\n",
    "    b = Variable(torch.ones(1)) / (measurement.size(0) + 1.0)\n",
    "    return pyro.sample(\"weight\", dist.normal, a, b)\n",
    "\n",
    "posterior = pyro.infer.Importance(deferred_conditioned_scale,\n",
    "                                  guide=scale_posterior_guide,\n",
    "                                  num_samples=20)\n",
    "\n",
    "marginal = pyro.infer.Marginal(posterior, sites=[\"weight\"])\n",
    "plt.hist([marginal(measurement, guess)[\"weight\"].data[0] for _ in range(100)], range=(5.0, 12.0))\n",
    "plt.title(\"P(weight | measurement, guess)\")\n",
    "plt.xlabel(\"weight\")\n",
    "plt.ylabel(\"#\")"
   ]
  },
  {
   "cell_type": "markdown",
   "metadata": {},
   "source": [
    "### Parametrized Stochastic Functions and Variational Inference\n",
    "#### variational inference: Use the top-level function pyro.param to specify a family of guides indexed by named parameters, and search for the member of that family that is the best approximation"
   ]
  },
  {
   "cell_type": "code",
   "execution_count": 30,
   "metadata": {},
   "outputs": [],
   "source": [
    "simple_param_store = {}\n",
    "a = simple_param_store.setdefault(\"a\", torch.randn(1))"
   ]
  },
  {
   "cell_type": "code",
   "execution_count": 32,
   "metadata": {},
   "outputs": [],
   "source": [
    "def scale_parametrized_guide(guess):\n",
    "    a = pyro.param(\"a\", Variable(torch.randn(1) + guess.data.clone(), requires_grad=True))\n",
    "    b = pyro.param(\"b\", Variable(torch.randn(1), requires_grad=True))\n",
    "    return pyro.sample(\"weight\", dist.normal, a, torch.abs(b))"
   ]
  },
  {
   "cell_type": "markdown",
   "metadata": {},
   "source": [
    "    Using SVI (will be intruduced in next chapter)"
   ]
  },
  {
   "cell_type": "code",
   "execution_count": 33,
   "metadata": {},
   "outputs": [
    {
     "data": {
      "text/plain": [
       "Text(0,0.5,'loss')"
      ]
     },
     "execution_count": 33,
     "metadata": {},
     "output_type": "execute_result"
    },
    {
     "data": {
      "image/png": "[encoded data removed]",
      "text/plain": [
       "<matplotlib.figure.Figure at 0x7ff96b66ecc0>"
      ]
     },
     "metadata": {},
     "output_type": "display_data"
    }
   ],
   "source": [
    "pyro.clear_param_store()\n",
    "svi = pyro.infer.SVI(model=conditioned_scale,\n",
    "                     guide=scale_parametrized_guide,\n",
    "                     optim=pyro.optim.SGD({\"lr\": 0.001}),\n",
    "                     loss=\"ELBO\")\n",
    "\n",
    "losses = []\n",
    "for t in range(1000):\n",
    "    losses.append(svi.step(guess))\n",
    "\n",
    "plt.plot(losses)\n",
    "plt.title(\"ELBO\")\n",
    "plt.xlabel(\"step\")\n",
    "plt.ylabel(\"loss\")"
   ]
  },
  {
   "cell_type": "markdown",
   "metadata": {},
   "source": [
    "    For example, we can use the optimized guide as an importance distribution for estimating the marginal distribution over weight with many fewer samples than the prior:"
   ]
  },
  {
   "cell_type": "code",
   "execution_count": 34,
   "metadata": {},
   "outputs": [
    {
     "data": {
      "text/plain": [
       "Text(0,0.5,'#')"
      ]
     },
     "execution_count": 34,
     "metadata": {},
     "output_type": "execute_result"
    },
    {
     "data": {
      "image/png": "[encoded data removed]",
      "text/plain": [
       "<matplotlib.figure.Figure at 0x7ff96b6000f0>"
      ]
     },
     "metadata": {},
     "output_type": "display_data"
    }
   ],
   "source": [
    "posterior = pyro.infer.Importance(conditioned_scale, scale_parametrized_guide, num_samples=10)\n",
    "marginal = pyro.infer.Marginal(posterior, sites=[\"weight\"])\n",
    "\n",
    "plt.hist([marginal(guess)[\"weight\"].data[0] for _ in range(100)], range=(5.0, 12.0))\n",
    "plt.title(\"P(weight | measurement, guess)\")\n",
    "plt.xlabel(\"weight\")\n",
    "plt.ylabel(\"#\")"
   ]
  },
  {
   "cell_type": "code",
   "execution_count": 35,
   "metadata": {},
   "outputs": [
    {
     "data": {
      "text/plain": [
       "Text(0,0.5,'#')"
      ]
     },
     "execution_count": 35,
     "metadata": {},
     "output_type": "execute_result"
    },
    {
     "data": {
      "image/png": "[encoded data removed]",
      "text/plain": [
       "<matplotlib.figure.Figure at 0x7ff96b63f2b0>"
      ]
     },
     "metadata": {},
     "output_type": "display_data"
    }
   ],
   "source": [
    "plt.hist([scale_parametrized_guide(guess).data[0] for _ in range(100)], range=(5.0, 12.0))\n",
    "plt.title(\"P(weight | measurement, guess)\")\n",
    "plt.xlabel(\"weight\")\n",
    "plt.ylabel(\"#\")"
   ]
  },
  {
   "cell_type": "code",
   "execution_count": null,
   "metadata": {},
   "outputs": [],
   "source": []
  }
 ],
 "metadata": {
  "kernelspec": {
   "display_name": "Python 3",
   "language": "python",
   "name": "python3"
  },
  "language_info": {
   "codemirror_mode": {
    "name": "ipython",
    "version": 3
   },
   "file_extension": ".py",
   "mimetype": "text/x-python",
   "name": "python",
   "nbconvert_exporter": "python",
   "pygments_lexer": "ipython3",
   "version": "3.5.4"
  }
 },
 "nbformat": 4,
 "nbformat_minor": 2
}
