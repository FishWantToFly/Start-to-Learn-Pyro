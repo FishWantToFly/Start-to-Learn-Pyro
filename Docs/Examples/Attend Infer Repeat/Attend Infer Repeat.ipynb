{
 "cells": [
  {
   "cell_type": "markdown",
   "metadata": {},
   "source": [
    "    In this tutorial we will implement the model and inference strategy described in “Attend, Infer, Repeat: Fast Scene Understanding with Generative Models” (AIR) [1] and apply it to the multi-mnist dataset."
   ]
  },
  {
   "cell_type": "code",
   "execution_count": 1,
   "metadata": {},
   "outputs": [
    {
     "name": "stdout",
     "output_type": "stream",
     "text": [
      "Populating the interactive namespace from numpy and matplotlib\n"
     ]
    }
   ],
   "source": [
    "%pylab inline\n",
    "import os\n",
    "from collections import namedtuple\n",
    "from observations import multi_mnist\n",
    "import pyro\n",
    "import pyro.optim as optim\n",
    "from pyro.infer import SVI, TraceGraph_ELBO\n",
    "import pyro.distributions as dist\n",
    "import pyro.poutine as poutine\n",
    "import torch\n",
    "import torch.nn as nn\n",
    "from torch.nn.functional import relu, sigmoid, softplus, grid_sample, affine_grid\n",
    "import numpy as np\n",
    "\n",
    "smoke_test = ('CI' in os.environ)\n",
    "pyro.enable_validation(True)"
   ]
  },
  {
   "cell_type": "markdown",
   "metadata": {},
   "source": [
    "## Introduction"
   ]
  },
  {
   "cell_type": "code",
   "execution_count": 2,
   "metadata": {},
   "outputs": [
    {
     "data": {
      "image/png": "[encoded data removed]",
      "text/plain": [
       "<matplotlib.figure.Figure at 0x7f8d05faeba8>"
      ]
     },
     "metadata": {},
     "output_type": "display_data"
    }
   ],
   "source": [
    "inpath = '../../examples/air/data'\n",
    "(X_np, _), _ = multi_mnist(inpath, max_digits=2, canvas_size=50, seed=42)\n",
    "X_np = X_np.astype(np.float32)\n",
    "X_np /= 255.0\n",
    "mnist = torch.from_numpy(X_np)\n",
    "def show_images(imgs):\n",
    "    figure(figsize=(8, 2))\n",
    "    for i, img in enumerate(imgs):\n",
    "        subplot(1, len(imgs), i + 1)\n",
    "        axis('off')\n",
    "        imshow(img.data.numpy(), cmap='gray')\n",
    "show_images(mnist[9:14])"
   ]
  },
  {
   "cell_type": "markdown",
   "metadata": {},
   "source": [
    "    y_att: small image from each step\n",
    "    z_what: latent \"code\" variable\n",
    "    z_where: object's location and size"
   ]
  },
  {
   "cell_type": "markdown",
   "metadata": {},
   "source": [
    "## Model"
   ]
  },
  {
   "cell_type": "markdown",
   "metadata": {},
   "source": [
    "### Generating a single object"
   ]
  },
  {
   "cell_type": "code",
   "execution_count": 3,
   "metadata": {},
   "outputs": [],
   "source": [
    "# Create the neural network. This takes a latent code, z_what, to pixel intensities.\n",
    "class Decoder(nn.Module):\n",
    "    def __init__(self):\n",
    "        super(Decoder, self).__init__()\n",
    "        self.l1 = nn.Linear(50, 200)\n",
    "        self.l2 = nn.Linear(200, 400)\n",
    "\n",
    "    def forward(self, z_what):\n",
    "        h = relu(self.l1(z_what))\n",
    "        return sigmoid(self.l2(h))\n",
    "\n",
    "decode = Decoder()\n",
    "\n",
    "z_where_prior_loc = torch.tensor([3., 0., 0.])\n",
    "z_where_prior_scale = torch.tensor([0.1, 1., 1.])\n",
    "z_what_prior_loc = torch.zeros(50)\n",
    "z_what_prior_scale = torch.ones(50)\n",
    "\n",
    "def prior_step_sketch(t):\n",
    "    # Sample object pose. This is a 3-dimensional vector representing x,y position and size.\n",
    "    z_where = pyro.sample('z_where_{}'.format(t),\n",
    "                          dist.Normal(z_where_prior_loc.expand(1, -1),\n",
    "                                      z_where_prior_scale.expand(1, -1))\n",
    "                              .independent(1))\n",
    "\n",
    "    # Sample object code. This is a 50-dimensional vector.\n",
    "    z_what = pyro.sample('z_what_{}'.format(t),\n",
    "                         dist.Normal(z_what_prior_loc.expand(1, -1),\n",
    "                                     z_what_prior_scale.expand(1, -1))\n",
    "                             .independent(1))\n",
    "\n",
    "    # Map code to pixel space using the neural network.\n",
    "    y_att = decode(z_what)\n",
    "\n",
    "    # Position/scale object within larger image.\n",
    "    y = object_to_image(z_where, y_att)\n",
    "\n",
    "    return y"
   ]
  },
  {
   "cell_type": "markdown",
   "metadata": {},
   "source": [
    "### STN (spatial transformer network)?"
   ]
  },
  {
   "cell_type": "code",
   "execution_count": 4,
   "metadata": {},
   "outputs": [],
   "source": [
    "def expand_z_where(z_where):\n",
    "    # Takes 3-dimensional vectors, and massages them into 2x3 matrices with elements like so:\n",
    "    # [s,x,y] -> [[s,0,x],\n",
    "    #             [0,s,y]]\n",
    "    n = z_where.size(0)\n",
    "    expansion_indices = torch.LongTensor([1, 0, 2, 0, 1, 3])\n",
    "    out = torch.cat((torch.zeros([1, 1]).expand(n, 1), z_where), 1)\n",
    "    return torch.index_select(out, 1, expansion_indices).view(n, 2, 3)\n",
    "\n",
    "# Takes the small image generated by the neural network and places it within a larger image with the desired pose.\n",
    "def object_to_image(z_where, obj):\n",
    "    n = obj.size(0)\n",
    "    theta = expand_z_where(z_where)\n",
    "    grid = affine_grid(theta, torch.Size((n, 1, 50, 50)))\n",
    "    out = grid_sample(obj.view(n, 1, 20, 20), grid)\n",
    "    return out.view(n, 50, 50)"
   ]
  },
  {
   "cell_type": "code",
   "execution_count": 5,
   "metadata": {},
   "outputs": [
    {
     "data": {
      "image/png": "[encoded data removed]",
      "text/plain": [
       "<matplotlib.figure.Figure at 0x7f8d05fdd3c8>"
      ]
     },
     "metadata": {},
     "output_type": "display_data"
    }
   ],
   "source": [
    "pyro.set_rng_seed(0)\n",
    "samples = [prior_step_sketch(0)[0] for _ in range(5)]\n",
    "show_images(samples)"
   ]
  },
  {
   "cell_type": "markdown",
   "metadata": {},
   "source": [
    "### Generating an entire image"
   ]
  },
  {
   "cell_type": "code",
   "execution_count": 6,
   "metadata": {},
   "outputs": [
    {
     "name": "stdout",
     "output_type": "stream",
     "text": [
      "sampled 2\n",
      "sampled 3\n",
      "sampled 0\n",
      "sampled 1\n",
      "sampled 0\n"
     ]
    }
   ],
   "source": [
    "pyro.set_rng_seed(0)\n",
    "def geom(num_trials=0):\n",
    "    p = torch.tensor([0.5])\n",
    "    x = pyro.sample('x{}'.format(num_trials), dist.Bernoulli(p))\n",
    "    if x[0] == 1:\n",
    "        return num_trials\n",
    "    else:\n",
    "        return geom(num_trials + 1)\n",
    "\n",
    "# Generate some samples.\n",
    "for _ in range(5):\n",
    "    print('sampled {}'.format(geom()))"
   ]
  },
  {
   "cell_type": "code",
   "execution_count": 7,
   "metadata": {},
   "outputs": [],
   "source": [
    "def geom_prior(x, step=0):\n",
    "    p = torch.tensor([0.5])\n",
    "    i = pyro.sample('i{}'.format(step), dist.Bernoulli(p))\n",
    "    if i[0] == 1:\n",
    "        return x\n",
    "    else:\n",
    "        x = x + prior_step_sketch(step)\n",
    "        return geom_prior(x, step + 1)"
   ]
  },
  {
   "cell_type": "code",
   "execution_count": 8,
   "metadata": {},
   "outputs": [
    {
     "data": {
      "image/png": "[encoded data removed]",
      "text/plain": [
       "<matplotlib.figure.Figure at 0x7f8cfc1246d8>"
      ]
     },
     "metadata": {},
     "output_type": "display_data"
    }
   ],
   "source": [
    "pyro.set_rng_seed(4)\n",
    "x_empty = torch.zeros(1, 50, 50)\n",
    "samples = [geom_prior(x_empty)[0] for _ in range(5)]\n",
    "show_images(samples)"
   ]
  },
  {
   "cell_type": "code",
   "execution_count": 9,
   "metadata": {},
   "outputs": [],
   "source": [
    "def prior_step(n, t, prev_x, prev_z_pres):\n",
    "\n",
    "    # Sample variable indicating whether to add this object to the output.\n",
    "\n",
    "    # We multiply the success probability of 0.5 by the value sampled for this\n",
    "    # choice in the previous step. By doing so we add objects to the output until\n",
    "    # the first 0 is sampled, after which we add no further objects.\n",
    "    z_pres = pyro.sample('z_pres_{}'.format(t),\n",
    "                         dist.Bernoulli(0.5 * prev_z_pres)\n",
    "                             .independent(1))\n",
    "\n",
    "    z_where = pyro.sample('z_where_{}'.format(t),\n",
    "                          dist.Normal(z_where_prior_loc.expand(n, -1),\n",
    "                                      z_where_prior_scale.expand(n, -1))\n",
    "                              .mask(z_pres)\n",
    "                              .independent(1))\n",
    "\n",
    "    z_what = pyro.sample('z_what_{}'.format(t),\n",
    "                         dist.Normal(z_what_prior_loc.expand(n, -1),\n",
    "                                     z_what_prior_scale.expand(n, -1))\n",
    "                             .mask(z_pres)\n",
    "                             .independent(1))\n",
    "\n",
    "    y_att = decode(z_what)\n",
    "    y = object_to_image(z_where, y_att)\n",
    "\n",
    "    # Combine the image generated at this step with the image so far.\n",
    "    x = prev_x + y * z_pres.view(-1, 1, 1)\n",
    "\n",
    "    return x, z_pres"
   ]
  },
  {
   "cell_type": "code",
   "execution_count": 10,
   "metadata": {},
   "outputs": [],
   "source": [
    "def prior(n):\n",
    "    x = torch.zeros(n, 50, 50)\n",
    "    z_pres = torch.ones(n, 1)\n",
    "    for t in range(3):\n",
    "        x, z_pres = prior_step(n, t, x, z_pres)\n",
    "    return x"
   ]
  },
  {
   "cell_type": "markdown",
   "metadata": {},
   "source": [
    "### Aside: Vectorized mini-batches"
   ]
  },
  {
   "cell_type": "code",
   "execution_count": 11,
   "metadata": {},
   "outputs": [],
   "source": [
    "\n",
    "def prior_step(n, t, prev_x, prev_z_pres):\n",
    "\n",
    "    # Sample variable indicating whether to add this object to the output.\n",
    "\n",
    "    # We multiply the success probability of 0.5 by the value sampled for this\n",
    "    # choice in the previous step. By doing so we add objects to the output until\n",
    "    # the first 0 is sampled, after which we add no further objects.\n",
    "    z_pres = pyro.sample('z_pres_{}'.format(t),\n",
    "                         dist.Bernoulli(0.5 * prev_z_pres)\n",
    "                             .independent(1))\n",
    "\n",
    "    z_where = pyro.sample('z_where_{}'.format(t),\n",
    "                          dist.Normal(z_where_prior_loc.expand(n, -1),\n",
    "                                      z_where_prior_scale.expand(n, -1))\n",
    "                              .mask(z_pres)\n",
    "                              .independent(1))\n",
    "\n",
    "    z_what = pyro.sample('z_what_{}'.format(t),\n",
    "                         dist.Normal(z_what_prior_loc.expand(n, -1),\n",
    "                                     z_what_prior_scale.expand(n, -1))\n",
    "                             .mask(z_pres)\n",
    "                             .independent(1))\n",
    "\n",
    "    y_att = decode(z_what)\n",
    "    y = object_to_image(z_where, y_att)\n",
    "\n",
    "    # Combine the image generated at this step with the image so far.\n",
    "    x = prev_x + y * z_pres.view(-1, 1, 1)\n",
    "\n",
    "    return x, z_pres"
   ]
  },
  {
   "cell_type": "code",
   "execution_count": 12,
   "metadata": {},
   "outputs": [],
   "source": [
    "def prior(n):\n",
    "    x = torch.zeros(n, 50, 50)\n",
    "    z_pres = torch.ones(n, 1)\n",
    "    for t in range(3):\n",
    "        x, z_pres = prior_step(n, t, x, z_pres)\n",
    "    return x"
   ]
  },
  {
   "cell_type": "code",
   "execution_count": 13,
   "metadata": {},
   "outputs": [
    {
     "data": {
      "image/png": "[encoded data removed]",
      "text/plain": [
       "<matplotlib.figure.Figure at 0x7f8cfa97a828>"
      ]
     },
     "metadata": {},
     "output_type": "display_data"
    }
   ],
   "source": [
    "pyro.set_rng_seed(121)\n",
    "show_images(prior(5))"
   ]
  },
  {
   "cell_type": "code",
   "execution_count": 14,
   "metadata": {},
   "outputs": [],
   "source": [
    "def model(data):\n",
    "    # Register network for optimization.\n",
    "    pyro.module(\"decode\", decode)\n",
    "    with pyro.iarange('data', data.size(0)) as indices:\n",
    "        batch = data[indices]\n",
    "        x = prior(batch.size(0)).view(-1, 50 * 50)\n",
    "        sd = (0.3 * torch.ones(1)).expand_as(x)\n",
    "        pyro.sample('obs', dist.Normal(x, sd).independent(1),\n",
    "                    obs=batch)"
   ]
  },
  {
   "cell_type": "markdown",
   "metadata": {},
   "source": [
    "## Guide　"
   ]
  },
  {
   "cell_type": "code",
   "execution_count": null,
   "metadata": {},
   "outputs": [],
   "source": []
  }
 ],
 "metadata": {
  "kernelspec": {
   "display_name": "Python 3",
   "language": "python",
   "name": "python3"
  },
  "language_info": {
   "codemirror_mode": {
    "name": "ipython",
    "version": 3
   },
   "file_extension": ".py",
   "mimetype": "text/x-python",
   "name": "python",
   "nbconvert_exporter": "python",
   "pygments_lexer": "ipython3",
   "version": "3.5.4"
  }
 },
 "nbformat": 4,
 "nbformat_minor": 2
}
